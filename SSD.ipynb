{
 "cells": [
  {
   "cell_type": "markdown",
   "metadata": {},
   "source": [
    "# 物体検出\n",
    "物体検出タスクに取り組みながらSSD(Single Short MultiBox Detector)と呼ばれるディープラーニングモデルを見ていきます。"
   ]
  },
  {
   "cell_type": "markdown",
   "metadata": {},
   "source": [
    "## 物体検出の概要\n",
    "\n",
    "物体検出は1枚の画像中に含まれている複数の物体に対して、物体の領域と物体名を特定するタスクです。<br>画像のどこに、何が写っているのか？を明らかにします。\n",
    "\n",
    "![jpg](image/bouding.jpg)\n",
    "<center>図：物体検出の結果<\\center>\n",
    "\n",
    "図は物体検出の結果を表示しています。\n",
    "枠が人と馬をそれぞれ囲っています。\n",
    "この物体の位置を示す枠を「バウンディングボックス（Bounding Box）」と呼びます。\n",
    "枠にはラベル名が表示され、このラベル名は検出した物体のクラス名を示します。\n",
    "クラス名の検出には確信度（confidence）を使います。\n",
    "この数字が高いほど（最大1.0）自信をもって検出していることがわかります。"
   ]
  },
  {
   "cell_type": "markdown",
   "metadata": {},
   "source": [
    "## 物体検出のインプットとアウトプット\n",
    "\n",
    "物体検出のインプットは画像です。\n",
    "アウトプットは3つの情報になります。\n",
    "1. 物体の存在を示すバウンディングボックスの位置と大きさ\n",
    "2. 各バウンディングボックスが何の物体化を示すラベル情報\n",
    "3. ラベル情報に対する確信度=confidence\n",
    "\n"
   ]
  },
  {
   "cell_type": "markdown",
   "metadata": {},
   "source": [
    "1.\t物体検出で使用するDatasetクラスを作成できるようになる\n",
    "2.\tSSDの学習時のデータオーギュメンテーションで、何をしているのかを理解する"
   ]
  },
  {
   "cell_type": "markdown",
   "metadata": {},
   "source": [
    "データ取得"
   ]
  },
  {
   "cell_type": "code",
   "execution_count": null,
   "metadata": {},
   "outputs": [],
   "source": [
    "import os\n",
    "import urllib.request\n",
    "import zipfile\n",
    "import tarfile"
   ]
  },
  {
   "cell_type": "code",
   "execution_count": 2,
   "metadata": {},
   "outputs": [],
   "source": [
    "# フォルダ「data」が存在しない場合は作成する\n",
    "data_dir = './data/'\n",
    "if not os.path.exists(data_dir):\n",
    "    os.mkdir(data_dir)"
   ]
  },
  {
   "cell_type": "code",
   "execution_count": 3,
   "metadata": {},
   "outputs": [],
   "source": [
    "# フォルダ「weights」が存在しない場合は作成する\n",
    "weights_dir = './weights/'\n",
    "if not os.path.exists(weights_dir):\n",
    "    os.mkdir(weights_dir)"
   ]
  },
  {
   "cell_type": "code",
   "execution_count": null,
   "metadata": {},
   "outputs": [],
   "source": [
    "# VOC2012のデータセットをここからダウンロードします\n",
    "# 時間がかかります（約15分）\n",
    "url = 'http://host.robots.ox.ac.uk/pascal/VOC/voc2012/VOCtrainval_11-May-2012.tar'\n",
    "target_path = os.path.join(data_dir, 'VOCtrainval_11-May-2012.tar') \n",
    "\n",
    "if not os.path.exists(target_path):\n",
    "    urllib.request.urlretrieve(url, target_path)\n",
    "    \n",
    "    tar = tarfile.TarFile(target_path)  # tarファイルを読み込み\n",
    "    tar.extractall(data_dir)  # tarを解凍\n",
    "    tar.close()  # tarファイルをクローズ\n",
    "    "
   ]
  },
  {
   "cell_type": "code",
   "execution_count": null,
   "metadata": {},
   "outputs": [],
   "source": [
    "# 学習済みのSSD用のVGGのパラメータをフォルダ「weights」にダウンロード\n",
    "# MIT License\n",
    "# Copyright (c) 2017 Max deGroot, Ellis Brown\n",
    "# https://github.com/amdegroot/ssd.pytorch\n",
    "    \n",
    "url = 'https://s3.amazonaws.com/amdegroot-models/vgg16_reducedfc.pth'\n",
    "target_path = os.path.join(weights_dir, 'vgg16_reducedfc.pth') \n",
    "\n",
    "if not os.path.exists(target_path):\n",
    "    urllib.request.urlretrieve(url, target_path)"
   ]
  },
  {
   "cell_type": "markdown",
   "metadata": {},
   "source": [
    "乗馬の画像を手動でダウンロード\n",
    "\n",
    "https://pixabay.com/ja/photos/%E3%82%AB%E3%82%A6%E3%83%9C%E3%83%BC%E3%82%A4-%E9%A6%AC-%E4%B9%97%E9%A6%AC-%E6%B0%B4-%E6%B5%B7-757575/\n",
    "の640×426サイズの画像\n",
    "（画像権利情報：商用利用無料、帰属表示は必要ありません）\n",
    "\n",
    "を、フォルダ「data」の直下に置く。"
   ]
  },
  {
   "cell_type": "markdown",
   "metadata": {},
   "source": [
    "本章の内容で筆者が作成した学習済みのSSD300モデル「ssd300_50.pth」\n",
    "\n",
    "\n",
    "https://drive.google.com/open?id=1_zTTYQ2j0r-Qe3VBbHzvURD0c1P2ZSE9   \n",
    "    \n",
    "    \n",
    "必ずしもダウンロードの必要はありませんが、\n",
    "自分でSSDネットワークを学習させる前に、学習済みモデルを試したい場合は、\n",
    "手動ダウンロードした「ssd300_50.pth」をフォルダ「wights」に配置してください。"
   ]
  },
  {
   "cell_type": "code",
   "execution_count": null,
   "metadata": {},
   "outputs": [],
   "source": [
    "!pip install opencv-contrib-python"
   ]
  },
  {
   "cell_type": "code",
   "execution_count": null,
   "metadata": {},
   "outputs": [],
   "source": []
  }
 ],
 "metadata": {
  "kernelspec": {
   "display_name": "Python 3",
   "language": "python",
   "name": "python3"
  },
  "language_info": {
   "codemirror_mode": {
    "name": "ipython",
    "version": 3
   },
   "file_extension": ".py",
   "mimetype": "text/x-python",
   "name": "python",
   "nbconvert_exporter": "python",
   "pygments_lexer": "ipython3",
   "version": "3.7.6"
  }
 },
 "nbformat": 4,
 "nbformat_minor": 4
}
