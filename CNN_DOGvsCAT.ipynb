{
 "cells": [
  {
   "cell_type": "markdown",
   "metadata": {},
   "source": [
    "# 転移学習 \n",
    "\n",
    "Kaggleの[Dogs vs. Cats Redux: Kernels Edition](https://www.kaggle.com/c/dogs-vs-cats-redux-kernels-edition)から`dogs-vs-cats-redux-kernels-edition.zip`をダウンロードし、VGG16で転移学習を行います。\n",
    "\n",
    "読み込んだモデルの最後の出力だけを2に変更し、モデルパラメータは出力層(fc)のみを渡して学習を行います。"
   ]
  },
  {
   "cell_type": "markdown",
   "metadata": {},
   "source": [
    "## データのロード\n",
    "\n",
    "- dogs-vs-cats-redux-kernels-edition.zipを./data/dogs-vs-cats-redux-kernels-edition内に解凍\n",
    "- ./data/dogs-vs-cats-redux-kernels-edition内のtrain.zipとtest.zipをその場で解凍\n"
   ]
  },
  {
   "cell_type": "code",
   "execution_count": 1,
   "metadata": {},
   "outputs": [],
   "source": [
    "# zipファイルの解凍\n",
    "import os\n",
    "import zipfile\n",
    "\n",
    "dogs_cats_dir = './data/dogs-vs-cats-redux-kernels-edition/'\n",
    "\n",
    "# フォルダ'./data/dogs-vs-cats-redux-kernels-edition.zip'が存在しない場合にzipの解凍\n",
    "if not os.path.exists(dogs_cats_dir):\n",
    "    # dogs-vs-cats-redux-kernels-edition.zipを解凍\n",
    "    with zipfile.ZipFile('./data/dogs-vs-cats-redux-kernels-edition.zip','r') as file:\n",
    "        # /dogs-vs-cats-redux-kernels-editionディレクトリを作りその中に解凍ファイルを作製\n",
    "        file.extractall(dogs_cats_dir)\n",
    "\n",
    "# フォルダ'./data/dogs-vs-cats-redux-kernels-edition/'内にtestディレクトリが存在しない場合、\n",
    "# 訓練データとテストデータのzipを解凍\n",
    "if not os.path.exists(dogs_cats_dir+'test/'):\n",
    "    # 訓練データとテストデータのzipを解凍\n",
    "    for f in ['train.zip', 'test.zip']:\n",
    "        with zipfile.ZipFile(dogs_cats_dir + f,'r') as file:\n",
    "            file.extractall(dogs_cats_dir)"
   ]
  },
  {
   "cell_type": "code",
   "execution_count": 2,
   "metadata": {},
   "outputs": [
    {
     "name": "stdout",
     "output_type": "stream",
     "text": [
      "logs  sample_submission.csv  test  test.zip  train  train.zip  valid\n"
     ]
    }
   ],
   "source": [
    "# 解凍したデータフォルダの構造を確認する\n",
    "!ls ./data/dogs-vs-cats-redux-kernels-edition/"
   ]
  },
  {
   "cell_type": "code",
   "execution_count": 3,
   "metadata": {},
   "outputs": [
    {
     "name": "stdout",
     "output_type": "stream",
     "text": [
      "train image size 0\n",
      "test image size 0\n"
     ]
    }
   ],
   "source": [
    "from glob import glob\n",
    "\n",
    "# 全ての.jpgファイルパスのリストを取得\n",
    "g_train = glob('./data/dogs-vs-cats-redux-kernels-edition/train/*.jpg')\n",
    "g_test = glob('./data/dogs-vs-cats-redux-kernels-edition/test/*.jpg')\n",
    "# データ数の確認\n",
    "print('train image size', len(g_train))\n",
    "print('test image size', len(g_test))"
   ]
  },
  {
   "cell_type": "markdown",
   "metadata": {},
   "source": [
    "### 訓練データの中からバリデーションデータを抽出\n",
    "\n",
    "訓練データからランダムに選んだ2000枚をバリデーションデータとします。"
   ]
  },
  {
   "cell_type": "code",
   "execution_count": 4,
   "metadata": {},
   "outputs": [],
   "source": [
    "import numpy as np\n",
    "\n",
    "valid_path = './data/dogs-vs-cats-redux-kernels-edition/valid/'\n",
    "# validディレクトリ\n",
    "if not os.path.exists(valid_path):\n",
    "    os.mkdir(valid_path)\n",
    "    # ファイルパスをリストで取得\n",
    "    g = glob('./data/dogs-vs-cats-redux-kernels-edition/train/*.jpg')\n",
    "    \n",
    "    # 訓練データからランダムに選んだ2000枚をバリデーションデータとします\n",
    "    shuf = np.random.permutation(g)\n",
    "    for i in range(2000):\n",
    "        # ファイル名から./data/dogs-vs-cats-redux-kernels-edition/train/`の部分を取り除きファイル名にする\n",
    "        # trainからvalidのディレクトリに画像ファイルを移動\n",
    "        os.rename(shuf[i], os.path.join(valid_path, shuf[i][48:]))\n"
   ]
  },
  {
   "cell_type": "code",
   "execution_count": 5,
   "metadata": {},
   "outputs": [
    {
     "name": "stdout",
     "output_type": "stream",
     "text": [
      "train image size 0\n",
      "valid image size 0\n",
      "test image size 0\n"
     ]
    }
   ],
   "source": [
    "# 全ての.jpgファイルパスのリストを取得\n",
    "g_train = glob('./data/dogs-vs-cats-redux-kernels-edition/train/*.jpg')\n",
    "g_valid = glob('./data/dogs-vs-cats-redux-kernels-edition/valid/*.jpg')\n",
    "g_test = glob('./data/dogs-vs-cats-redux-kernels-edition/test/*.jpg')\n",
    "# データ数の確認\n",
    "print('train image size', len(g_train))\n",
    "print('valid image size', len(g_valid))\n",
    "print('test image size', len(g_test))"
   ]
  },
  {
   "cell_type": "markdown",
   "metadata": {},
   "source": [
    "### クラスごとにサブディレクトリを作成する\n",
    "\n",
    "PyTorchで読み込みやすいようにクラスごとにサブディレクトリを作成します。<br>Kaggleのテストデータは正解ラベルがついていないため unknown というサブディレクトリに入れます。\n",
    "\n",
    "最終的なデータの階層構造は\n",
    "\n",
    "```\n",
    "train\n",
    "  cats\n",
    "    cat.1.jpg\n",
    "    cat.2.jpg\n",
    "  dogs\n",
    "    dog.1.jpg\n",
    "    dog.2.jpg\n",
    "valid\n",
    "  cats\n",
    "    cat.10.jpg\n",
    "    cat.21.jpg\n",
    "  dogs\n",
    "    dog.8.jpg\n",
    "    dog.52.jpg\n",
    "test\n",
    "  unknown\n",
    "    1.jpg\n",
    "    2.jpg\n",
    "```"
   ]
  },
  {
   "cell_type": "code",
   "execution_count": 6,
   "metadata": {},
   "outputs": [
    {
     "data": {
      "text/plain": [
       "[]"
      ]
     },
     "execution_count": 6,
     "metadata": {},
     "output_type": "execute_result"
    }
   ],
   "source": [
    "g_train[:2]"
   ]
  },
  {
   "cell_type": "code",
   "execution_count": 7,
   "metadata": {},
   "outputs": [],
   "source": [
    "# 訓練データ\n",
    "# 全ての.jpgファイルパスのリストを取得\n",
    "g_train_dog = glob('./data/dogs-vs-cats-redux-kernels-edition/train/dog*.jpg')\n",
    "g_train_cat = glob('./data/dogs-vs-cats-redux-kernels-edition/train/cat*.jpg')\n",
    "\n",
    "train_dog_path = './data/dogs-vs-cats-redux-kernels-edition/train/dog/'\n",
    "train_cat_path = './data/dogs-vs-cats-redux-kernels-edition/train/cat/'\n",
    "\n",
    "# dogディレクトリの処理\n",
    "if not os.path.exists(train_dog_path):\n",
    "    os.mkdir(train_dog_path)\n",
    "    for g in range(len(g_train_dog)):\n",
    "        # ファイル名から./data/dogs-vs-cats-redux-kernels-edition/train/`の部分を取り除きファイル名にする\n",
    "        # trainからvalidのディレクトリに画像ファイルを移動\n",
    "        os.rename(g_train_dog[g], os.path.join(train_dog_path, g_train_dog[g][48:]))\n",
    "# catディレクトリの処理\n",
    "if not os.path.exists(train_cat_path):\n",
    "    os.mkdir(train_cat_path)\n",
    "    for g in range(len(g_train_cat)):\n",
    "        # ファイル名から./data/dogs-vs-cats-redux-kernels-edition/train/`の部分を取り除きファイル名にする\n",
    "        # trainからvalidのディレクトリに画像ファイルを移動\n",
    "        os.rename(g_train_cat[g], os.path.join(train_cat_path, g_train_cat[g][48:]))\n"
   ]
  },
  {
   "cell_type": "code",
   "execution_count": 8,
   "metadata": {},
   "outputs": [],
   "source": [
    "# バリデーションデータ\n",
    "# 全ての.jpgファイルパスのリストを取得\n",
    "g_valid_dog = glob('./data/dogs-vs-cats-redux-kernels-edition/valid/dog*.jpg')\n",
    "g_valid_cat = glob('./data/dogs-vs-cats-redux-kernels-edition/valid/cat*.jpg')\n",
    "\n",
    "valid_dog_path = './data/dogs-vs-cats-redux-kernels-edition/valid/dog/'\n",
    "valid_cat_path = './data/dogs-vs-cats-redux-kernels-edition/valid/cat/'\n",
    "\n",
    "# dogディレクトリの処理\n",
    "if not os.path.exists(valid_dog_path):\n",
    "    os.mkdir(valid_dog_path)\n",
    "    for g in range(len(g_valid_dog)):\n",
    "        # ファイル名から./data/dogs-vs-cats-redux-kernels-edition/train/`の部分を取り除きファイル名にする\n",
    "        # trainからvalidのディレクトリに画像ファイルを移動\n",
    "        os.rename(g_valid_dog[g], os.path.join(valid_dog_path, g_valid_dog[g][48:]))\n",
    "# catディレクトリの処理\n",
    "if not os.path.exists(valid_cat_path):\n",
    "    os.mkdir(valid_cat_path)\n",
    "    for g in range(len(g_valid_cat)):\n",
    "        # ファイル名から./data/dogs-vs-cats-redux-kernels-edition/train/`の部分を取り除きファイル名にする\n",
    "        # trainからvalidのディレクトリに画像ファイルを移動\n",
    "        os.rename(g_valid_cat[g], os.path.join(valid_cat_path, g_valid_cat[g][48:]))\n"
   ]
  },
  {
   "cell_type": "code",
   "execution_count": 9,
   "metadata": {},
   "outputs": [],
   "source": [
    "# テストデータ\n",
    "# 全ての.jpgファイルパスのリストを取得\n",
    "g_test = glob('./data/dogs-vs-cats-redux-kernels-edition/test/*.jpg')\n",
    "\n",
    "# テストデータにはラベルがないのでunknownディレクトリにデータを格納\n",
    "test_unknown_path = './data/dogs-vs-cats-redux-kernels-edition/test/unknown'\n",
    "\n",
    "# unknownディレクトリの処理\n",
    "if not os.path.exists(test_unknown_path):\n",
    "    os.mkdir(test_unknown_path)\n",
    "    for g in range(len(g_test)):\n",
    "        # ファイル名から./data/dogs-vs-cats-redux-kernels-edition/train/`の部分を取り除きファイル名にする\n",
    "        # trainからvalidのディレクトリに画像ファイルを移動\n",
    "        os.rename(g_test[g], os.path.join(test_unknown_path, g_test[g][48:]))\n"
   ]
  },
  {
   "cell_type": "markdown",
   "metadata": {},
   "source": [
    "## データをテンソルに変換\n",
    "\n",
    "学習時と評価・テスト時でデータの変換関数を変えます。\n",
    "- 学習時は汎化性能が上がるように`RandomResizedCrop` や `RandomHorizontalFlip` などデータ拡張する変換を入れる\n",
    "- 評価時はこのようなランダム性は入れずに入力画像のサイズがネットワークに合うようにサイズを変形する\n",
    "- `Normalize()` はImageNetの訓練データの平均と分散を表し、入力画像を平均0、分散1に標準化する。"
   ]
  },
  {
   "cell_type": "code",
   "execution_count": 10,
   "metadata": {},
   "outputs": [
    {
     "name": "stdout",
     "output_type": "stream",
     "text": [
      "cpu\n"
     ]
    }
   ],
   "source": [
    "import torch\n",
    "import torchvision\n",
    "import torchvision.transforms as transforms\n",
    "\n",
    "# デバイスモードの取得\n",
    "device = torch.device('cuda' if torch.cuda.is_available() else 'cpu')\n",
    "print(device)    # デバイスモードの確認\n",
    "\n",
    "\n",
    "# transform の定義\n",
    "# ToTensor で Tensorに変換し\n",
    "# 画像サイズを(224, 224)で統一\n",
    "# 標準化 平均0、標準偏差1\n",
    "# Resizeの前にtransforms.ToTensor()を入れるとエラーになるので注意\n",
    "train_transform = transforms.Compose(\n",
    "    [transforms.Resize((224, 224)),                                         # データを(224, 224)に統一する\n",
    "#      transforms.RandomHorizontalFlip(),                                     # ランダムに左右を入れ替える\n",
    "#      transforms.ColorJitter(),                                              # ランダムに画像の閾値を変える\n",
    "#      transforms.RandomRotation(10),                                         # ランダムに画像の回転（±10°）\n",
    "     transforms.ToTensor(),\n",
    "     transforms.Normalize(mean=[0.485, 0.456, 0.406], std=[0.229, 0.224, 0.225])  # 平均0、標準偏差1で標準化\n",
    "    ]\n",
    ")\n",
    "\n",
    "test_transform = transforms.Compose(\n",
    "    [transforms.Resize((224, 224)),                                         # データを(224, 224)に統一する\n",
    "     transforms.ToTensor(),\n",
    "     transforms.Normalize(mean=[0.485, 0.456, 0.406], std=[0.229, 0.224, 0.225])  # 平均0、標準偏差1で標準化\n",
    "    ]\n",
    ")"
   ]
  },
  {
   "cell_type": "code",
   "execution_count": 11,
   "metadata": {},
   "outputs": [
    {
     "name": "stdout",
     "output_type": "stream",
     "text": [
      "['cat', 'dog']\n",
      "['cat', 'dog']\n",
      "['unknown']\n"
     ]
    }
   ],
   "source": [
    "# 画像データをデータセットに格納する\n",
    "# 扱うデータが画像でクラスごとにフォルダ分けされているのでImageFolder()を使用\n",
    "train_dir = './data/dogs-vs-cats-redux-kernels-edition/train/'\n",
    "valid_dir = './data/dogs-vs-cats-redux-kernels-edition/valid/'\n",
    "test_dir = './data/dogs-vs-cats-redux-kernels-edition/test/'\n",
    "\n",
    "df_train = torchvision.datasets.ImageFolder(\n",
    "    root = train_dir,\n",
    "    transform=train_transform\n",
    ")\n",
    "\n",
    "df_valid = torchvision.datasets.ImageFolder(\n",
    "    root = valid_dir,\n",
    "    transform=test_transform\n",
    ")\n",
    "\n",
    "df_test = torchvision.datasets.ImageFolder(\n",
    "    root = test_dir,\n",
    "    transform=test_transform\n",
    ")\n",
    "\n",
    "# クラスラベルの表示\n",
    "print(df_train.classes)\n",
    "print(df_valid.classes)\n",
    "print(df_test.classes)"
   ]
  },
  {
   "cell_type": "markdown",
   "metadata": {},
   "source": [
    "cats がラベル0で dogs がラベル1になっていることがわかります。<br>おそらくアルファベット順にラベルが割り当てられたと<br>unknownはラベル0だけどこれはテスト時にしか使わないので問題なし。"
   ]
  },
  {
   "cell_type": "markdown",
   "metadata": {},
   "source": [
    "## データローダーの作成\n",
    "\n",
    "ミニバッチ単位でデータを取得するデータローダーを作成。<br>バッチサイズは128にし、訓練データだけシャッフルします。"
   ]
  },
  {
   "cell_type": "code",
   "execution_count": 12,
   "metadata": {},
   "outputs": [],
   "source": [
    "from torch.utils.data import DataLoader, TensorDataset    # データ関連のユーティリティクラスのインポート\n",
    "\n",
    "# 定数（学習方法の設計時）\n",
    "BATCH_SIZE = 128        # バッチサイズ\n",
    "\n",
    "# データローダー（loader）の作成 ミニバッチを扱うため、データローダー（loader）を作成する\n",
    "train_loader = DataLoader(\n",
    "    df_train,\n",
    "    batch_size=BATCH_SIZE,\n",
    "    shuffle=True\n",
    ")\n",
    "valid_loader = DataLoader(\n",
    "    df_valid,\n",
    "    batch_size=BATCH_SIZE, \n",
    "    shuffle=False\n",
    ")"
   ]
  },
  {
   "cell_type": "markdown",
   "metadata": {},
   "source": [
    "## 作成したデータの確認（1バッチ分データを表示）"
   ]
  },
  {
   "cell_type": "code",
   "execution_count": 13,
   "metadata": {},
   "outputs": [
    {
     "name": "stdout",
     "output_type": "stream",
     "text": [
      "torch.Size([128, 3, 224, 224]) torch.Size([128])\n"
     ]
    },
    {
     "data": {
      "image/png": "[encoded data removed]",
      "text/plain": [
       "<Figure size 432x288 with 1 Axes>"
      ]
     },
     "metadata": {
      "needs_background": "light"
     },
     "output_type": "display_data"
    }
   ],
   "source": [
    "import matplotlib.pyplot as plt\n",
    "%matplotlib inline\n",
    "\n",
    "def imshow(images, title=None):\n",
    "    images = images.numpy().transpose((1, 2, 0))  # (h, w, c)\n",
    "    # denormalize\n",
    "    mean = np.array([0.485, 0.456, 0.406])\n",
    "    std = np.array([0.229, 0.224, 0.225])\n",
    "    images = std * images + mean\n",
    "    images = np.clip(images, 0, 1)\n",
    "    plt.imshow(images)\n",
    "    if title is not None:\n",
    "        plt.title(title)\n",
    "\n",
    "images, classes = next(iter(loader_train))\n",
    "print(images.size(), classes.size())\n",
    "grid = torchvision.utils.make_grid(images[:25], nrow=5)\n",
    "imshow(grid, title='1batch image')"
   ]
  },
  {
   "cell_type": "markdown",
   "metadata": {},
   "source": [
    "## モデルの定義\n",
    "\n",
    "#### モデルの読み込み\n"
   ]
  },
  {
   "cell_type": "code",
   "execution_count": 14,
   "metadata": {},
   "outputs": [
    {
     "name": "stdout",
     "output_type": "stream",
     "text": [
      "ConvolutionalNeuralNetwork(\n",
      "  (layer1): Sequential(\n",
      "    (0): Conv2d(3, 16, kernel_size=(5, 5), stride=(1, 1), padding=(2, 2))\n",
      "    (1): BatchNorm2d(16, eps=1e-05, momentum=0.1, affine=True, track_running_stats=True)\n",
      "    (2): ReLU()\n",
      "    (3): MaxPool2d(kernel_size=(2, 2), stride=(2, 2), padding=0, dilation=1, ceil_mode=False)\n",
      "  )\n",
      "  (layer2): Sequential(\n",
      "    (0): Conv2d(16, 32, kernel_size=(5, 5), stride=(1, 1), padding=(2, 2))\n",
      "    (1): BatchNorm2d(32, eps=1e-05, momentum=0.1, affine=True, track_running_stats=True)\n",
      "    (2): ReLU()\n",
      "    (3): MaxPool2d(kernel_size=(2, 2), stride=(2, 2), padding=0, dilation=1, ceil_mode=False)\n",
      "  )\n",
      "  (fc): Linear(in_features=1568, out_features=2, bias=True)\n",
      ")\n"
     ]
    }
   ],
   "source": [
    "import torch.nn as nn\n",
    "\n",
    "# 定数\n",
    "INPUT_SIZE = 3    # 入力チャネル数（カラー画像なので、3を指定）\n",
    "CONV2_CHANNELS = 16   # 出力チャネル数 16個のカーネルを作成（conv2の入力チャネルの数を一致させる必要があります[conv1の出力→活性化関数→プーリングを経てconv2の入力チャネルとして渡されます]）\n",
    "INPUT_KERNELSIZE = 5  # 入力層のフィルター(カーネル) サイズ 5×5のサイズのカーネルを作成\n",
    "PADDING_SIZE = 2      # パディングサイズ\n",
    "OUTPUT_CHANNELS = 32  # 畳み込み層2の出力チャネル数\n",
    "# 2×2のサイズでプーリングを行います(サイズ/2)\n",
    "INPUT_POOLSIZE = (2, 2)    # プーリング層\n",
    "\n",
    "FC_NEURONS = 7 * 7 * 32    # 隠れ層のニューロン数\n",
    "OUTPUT_RESULTS = 2        # 出力層のニューロン数\n",
    "\n",
    "\n",
    "# モデルの定義\n",
    "class ConvolutionalNeuralNetwork(nn.Module):\n",
    "    def __init__(self):\n",
    "        # 継承したnn.Module親クラスを初期化\n",
    "        super(ConvolutionalNeuralNetwork, self).__init__()\n",
    "        \n",
    "        # 層の定義\n",
    "        self.layer1 = nn.Sequential(\n",
    "            # 畳み込み層\n",
    "            nn.Conv2d(\n",
    "                INPUT_SIZE,           # 入力チャネル数\n",
    "                CONV2_CHANNELS,       # 出力チャネル数\n",
    "                kernel_size=INPUT_KERNELSIZE,      # 入力層のフィルター(カーネル) サイズ\n",
    "                padding=PADDING_SIZE  # パディングサイズ\n",
    "            ),\n",
    "            nn.BatchNorm2d(CONV2_CHANNELS),  # 正則化\n",
    "            nn.ReLU(),                       # 損失関数\n",
    "            nn.MaxPool2d(INPUT_POOLSIZE),    # プーリング層（MaxPooling）\n",
    "        )\n",
    "        self.layer2 = nn.Sequential(\n",
    "            # 畳み込み層\n",
    "            nn.Conv2d(\n",
    "                CONV2_CHANNELS,       # 入力チャネル数\n",
    "                OUTPUT_CHANNELS,      # 出力チャネル数\n",
    "                kernel_size=INPUT_KERNELSIZE,      # 入力層のフィルター(カーネル) サイズ\n",
    "                padding=PADDING_SIZE  # パディングサイズ\n",
    "            ),\n",
    "            nn.BatchNorm2d(OUTPUT_CHANNELS), # 正則化\n",
    "            nn.ReLU(),                       # 損失関数\n",
    "            nn.MaxPool2d(INPUT_POOLSIZE),    # プーリング層（MaxPooling）\n",
    "        )\n",
    "        # 全結合層\n",
    "        self.fc = nn.Linear(\n",
    "            FC_NEURONS,       # 入力ユニット数\n",
    "            OUTPUT_RESULTS    # 出力結果への出力ユニット数\n",
    "        )\n",
    "    def forward(self, x):\n",
    "#         print('Input_size : ', x.size())    # 出力サイズの確認  debag\n",
    "        x = self.layer1(x)\n",
    "#         print('layer1_output_size : ', x.size())    # 出力サイズの確認  debag\n",
    "        x = self.layer2(x)\n",
    "#         print('layer2_output_size : ', x.size())    # 出力サイズの確認  debag\n",
    "        x = x.view(x.size(0), -1)     # 畳み込み層の出力サイズを全結合層の入力ニューロン数に変換\n",
    "#         print('fc_activation_output_size : ', x.size())    # 出力サイズの確認  debag\n",
    "        x = self.fc(x)\n",
    "#         print('Output_size : ', x.size())    # 出力サイズの確認  debag\n",
    "        return x\n",
    "\n",
    "# モデルのインスタンス化\n",
    "model = ConvolutionalNeuralNetwork().to(device)\n",
    "print(model)                      # モデルの概要を出力"
   ]
  },
  {
   "cell_type": "markdown",
   "metadata": {},
   "source": [
    "- CNNはブロック単位で処理（Conv+BN+ReLU+Pooling）できるようにまとめて Sequential を使います\n",
    "- Conv2d や BatchNorm2d はKerasと違って入力と出力のユニットサイズを省略できません。\n",
    "- サイズを自分で計算するのが面倒ならば、モデルの途中結果サイズを print(out.size()) で出力します。"
   ]
  },
  {
   "cell_type": "code",
   "execution_count": 15,
   "metadata": {},
   "outputs": [],
   "source": [
    "# モデルの動作テスト\n",
    "# image, label = iter(train_loader).next()\n",
    "# print('before view : ', image.size())\n",
    "# image = image.to(device)\n",
    "# print()\n",
    "# output = model(image)    # テストの実行\n",
    "# print()\n",
    "# print('after view : ', output.size())"
   ]
  },
  {
   "cell_type": "markdown",
   "metadata": {},
   "source": [
    "## 層ごとの出力の算出\n",
    "\n",
    "#### 畳み込み層とプーリング層の算出式+全結合層の入力\n",
    "\n",
    "$\n",
    "入力サイズ : [高さ, 幅]=[H, W]\\\\\n",
    "出力サイズ : [高さ, 幅]=[O_h, O_w]\\\\\n",
    "フィルタサイズのサイズ : [高さ, 幅]=[F_h, F_w]\\\\\n",
    "パディングサイズ : P\\\\\n",
    "ストライド : S\\\\\n",
    "$\n",
    "出力サイズ$O_h, O_w$は以下のように計算できます。\n",
    "$$O_h=\\frac{H+2P-F_h}{s}+1\\\\\n",
    "O_w=\\frac{W+2P-F_w}{s}+1$$\n"
   ]
  },
  {
   "cell_type": "markdown",
   "metadata": {},
   "source": [
    "## 損失関数の定義<br>オプティマイザー（最適化用オブジェクト）の作成"
   ]
  },
  {
   "cell_type": "code",
   "execution_count": 16,
   "metadata": {},
   "outputs": [],
   "source": [
    "import torch.optim as optim    # 最適化モジュールのインポート\n",
    "\n",
    "# 定数\n",
    "LEARN_RATE = 0.01        # 学習率\n",
    "# 変数\n",
    "criterion = nn.CrossEntropyLoss()   # 損失関数：交差エントロピー 学習データの正解率を出力\n",
    "optimizer = optim.Adam(\n",
    "        model.parameters(),   # 最適化で更新する重みやバイアスのパラメータ\n",
    "        lr=LEARN_RATE,        # 学習率\n",
    ")"
   ]
  },
  {
   "cell_type": "markdown",
   "metadata": {},
   "source": [
    "## 1回分の「訓練（学習）」と「評価」の処理"
   ]
  },
  {
   "cell_type": "code",
   "execution_count": 21,
   "metadata": {},
   "outputs": [],
   "source": [
    "def train_step(model, criterion, optimizer, train_loader):\n",
    "    \"\"\"学習の実行\n",
    "    訓練モードの設定\n",
    "    フォワードプロパゲーションで出力結果の取得\n",
    "    出力結果と正解ラベルから損失および勾配の計算\n",
    "    勾配を使ってパラメーター（重みとバイアス）の更新\n",
    "    \n",
    "    Param:\n",
    "        model : 定義したモデル\n",
    "        criterion : 損失関数\n",
    "        optimizer : オプティマイザー\n",
    "        train_loader : 訓練データのデータローダー\n",
    "    \"\"\"\n",
    "    # 学習モードの設定\n",
    "    model.train()\n",
    "    # 学習中の損失を格納する変数\n",
    "    running_loss = 0\n",
    "    # 1ミニバッチ分の「訓練」を実行\n",
    "    for batch_idx, (images, labels) in enumerate(train_loader):\n",
    "        # デバイス情報をデータに送る\n",
    "        images = images.to(device)\n",
    "        labels = labels.to(device)\n",
    "        # フォワードプロパゲーションで出力結果を取得\n",
    "        outputs = model(images)\n",
    "        \n",
    "        # 出力結果と正解ラベルから損失を計算し、勾配を計算\n",
    "        optimizer.zero_grad()    # 勾配を0で初期化\n",
    "\n",
    "        loss = criterion(outputs, labels)    # 誤差（出力結果と正解ラベルの差）から損失を取得\n",
    "        running_loss += loss.data[0]         # 損失をpythonの値で追加\n",
    "        loss.backward()                      # 逆伝播の処理として勾配を計算（自動微分）\n",
    "\n",
    "        # 勾配を使ってパラメーター（重みとバイアス）を更新\n",
    "        optimizer.step()                     # 最適化の実施\n",
    "    # 損失の算出ミニバッチ数分の損失の合計をミニバッチ数で割る\n",
    "    train_loss = running_loss / len(train_loader)\n",
    "    return train_loss\n",
    "\n",
    "def valid_step(model, criterion, valid_loader):\n",
    "    \"\"\"評価（推論）検証\n",
    "    評価モードの設定\n",
    "    フォワードプロパゲーションで出力結果の取得\n",
    "    出力結果と正解ラベルから損失の計算\n",
    "    正解率の算出\n",
    "    \n",
    "    Param:\n",
    "        model : 定義したモデル\n",
    "        criterion : 損失関数\n",
    "        optimizer : オプティマイザー\n",
    "        valid_loader : 評価データのデータローダー\n",
    "    \"\"\"\n",
    "    # 評価モードに設定（dropoutなどの挙動が評価用になる）\n",
    "    model.eval()\n",
    "    \n",
    "    running_loss = 0    # 検証中の損失を格納する変数\n",
    "    correct = 0         # 検証の正解数を格納する変数\n",
    "    total = 0           # 1ミニバッチ数を格納する変数\n",
    "    \n",
    "    with torch.no_grad():                # 勾配は計算しないモードに設定\n",
    "        # 1ミニバッチ分の「検証」を実行\n",
    "        for batch_idx, (images, labels) in enumerate(valid_loader):\n",
    "            # デバイス情報をデータに送る\n",
    "            images = images.to(device)\n",
    "            labels = labels.to(device)\n",
    "            # フォワードプロパゲーションで出力結果を取得\n",
    "            outputs = model(images)\n",
    "            \n",
    "            loss = criterion(outputs, labels)    # 誤差（出力結果と正解ラベルの差）から損失を取得\n",
    "            running_loss += loss.item()          # 損失をpythonの値で追加\n",
    "            _, predict = torch.max(outputs, 1)   # 予測した確率の最大値を予測結果として出力\n",
    "            correct += (predict == labels).sum().item()  # 正解数を取得\n",
    "            total += labels.size(0)              # 1ミニバッチ数の取得\n",
    "            \n",
    "    val_loss = running_loss / len(valid_loader)\n",
    "    val_acc = float(correct) / total\n",
    "    \n",
    "    return val_loss, val_acc"
   ]
  },
  {
   "cell_type": "code",
   "execution_count": 22,
   "metadata": {},
   "outputs": [],
   "source": [
    "log_dir = './data/dogs-vs-cats-redux-kernels-edition/logs/'\n",
    "# logsディレクトリ\n",
    "if not os.path.exists(log_dir):\n",
    "    os.mkdir(log_dir)"
   ]
  },
  {
   "cell_type": "code",
   "execution_count": 23,
   "metadata": {},
   "outputs": [
    {
     "ename": "NameError",
     "evalue": "name 'train_loader' is not defined",
     "output_type": "error",
     "traceback": [
      "\u001b[0;31m---------------------------------------------------------------------------\u001b[0m",
      "\u001b[0;31mNameError\u001b[0m                                 Traceback (most recent call last)",
      "\u001b[0;32m<ipython-input-23-dbebc6fa82ee>\u001b[0m in \u001b[0;36m<module>\u001b[0;34m\u001b[0m\n\u001b[1;32m      7\u001b[0m \u001b[0mval_acc_list\u001b[0m \u001b[0;34m=\u001b[0m \u001b[0;34m[\u001b[0m\u001b[0;34m]\u001b[0m\u001b[0;34m\u001b[0m\u001b[0;34m\u001b[0m\u001b[0m\n\u001b[1;32m      8\u001b[0m \u001b[0;32mfor\u001b[0m \u001b[0mepoch\u001b[0m \u001b[0;32min\u001b[0m \u001b[0mrange\u001b[0m\u001b[0;34m(\u001b[0m\u001b[0mEPOCHS\u001b[0m\u001b[0;34m)\u001b[0m\u001b[0;34m:\u001b[0m\u001b[0;34m\u001b[0m\u001b[0;34m\u001b[0m\u001b[0m\n\u001b[0;32m----> 9\u001b[0;31m     \u001b[0mloss\u001b[0m \u001b[0;34m=\u001b[0m \u001b[0mtrain_step\u001b[0m\u001b[0;34m(\u001b[0m\u001b[0mmodel\u001b[0m\u001b[0;34m,\u001b[0m \u001b[0mcriterion\u001b[0m\u001b[0;34m,\u001b[0m \u001b[0moptimizer\u001b[0m\u001b[0;34m,\u001b[0m \u001b[0mtrain_loader\u001b[0m\u001b[0;34m)\u001b[0m\u001b[0;34m\u001b[0m\u001b[0;34m\u001b[0m\u001b[0m\n\u001b[0m\u001b[1;32m     10\u001b[0m     \u001b[0mval_loss\u001b[0m\u001b[0;34m,\u001b[0m \u001b[0mval_acc\u001b[0m \u001b[0;34m=\u001b[0m \u001b[0mvalid_step\u001b[0m\u001b[0;34m(\u001b[0m\u001b[0mmodel\u001b[0m\u001b[0;34m,\u001b[0m \u001b[0mcriterion\u001b[0m\u001b[0;34m,\u001b[0m \u001b[0mvalid_loader\u001b[0m\u001b[0;34m)\u001b[0m\u001b[0;34m\u001b[0m\u001b[0;34m\u001b[0m\u001b[0m\n\u001b[1;32m     11\u001b[0m \u001b[0;34m\u001b[0m\u001b[0m\n",
      "\u001b[0;31mNameError\u001b[0m: name 'train_loader' is not defined"
     ]
    }
   ],
   "source": [
    "EPOCHS = 5    # エポック数\n",
    "log_dir = './data/dogs-vs-cats-redux-kernels-edition/logs/'\n",
    "\n",
    "best_acc = 0\n",
    "loss_list = []\n",
    "val_loss_list = []\n",
    "val_acc_list = []\n",
    "for epoch in range(EPOCHS):\n",
    "    loss = train_step(model, criterion, optimizer, train_loader)\n",
    "    val_loss, val_acc = valid_step(model, criterion, valid_loader)\n",
    "\n",
    "    # 損失や正解率などの情報を表示\n",
    "    print(f'[Epoch {epoch+1:3d}/{EPOCHS:3d}]' \\\n",
    "          f' loss: {loss:.5f}' \\\n",
    "          f' val_loss: {val_loss:.5f}, val_acc: {val_acc:.5f}')\n",
    "    \n",
    "    if val_acc > best_acc:\n",
    "        print('val_acc improved from %.5f to %.5f!' % (best_acc, val_acc))\n",
    "        best_acc = val_acc\n",
    "        model_file = 'epoch%03d-%.3f-%.3f.pth' % (epoch, val_loss, val_acc)\n",
    "        torch.save(model.state_dict(), os.path.join(log_dir, model_file))\n",
    "\n",
    "    # logging\n",
    "    loss_list.append(loss)\n",
    "    val_loss_list.append(val_loss)\n",
    "    val_acc_list.append(val_acc)\n",
    "    \n",
    "# 学習終了後、学習に要した時間を出力\n",
    "print(\"Computation time:{0:.3f} sec\".format(time.time() - start))"
   ]
  },
  {
   "cell_type": "markdown",
   "metadata": {},
   "source": [
    "## 損失値の推移グラフ描画\n"
   ]
  },
  {
   "cell_type": "code",
   "execution_count": null,
   "metadata": {},
   "outputs": [],
   "source": [
    "import matplotlib.pyplot as plt\n",
    "%matplotlib inline\n",
    "\n",
    "# plot learning curve\n",
    "plt.figure()\n",
    "plt.plot(range(EPOCHS), loss_list, 'r-', label='train_loss')\n",
    "plt.plot(range(EPOCHS), val_loss_list, 'b-', label='val_loss')\n",
    "plt.legend(loc='best')\n",
    "plt.xlabel('epoch')\n",
    "plt.ylabel('loss')\n",
    "plt.grid()\n",
    "\n",
    "plt.figure()\n",
    "plt.plot(range(EPOCHS), val_acc_list, 'g-', label='val_acc')\n",
    "plt.legend(loc='best')\n",
    "plt.xlabel('epoch')\n",
    "plt.ylabel('acc')\n",
    "plt.grid()"
   ]
  },
  {
   "cell_type": "markdown",
   "metadata": {},
   "source": [
    "## 予測結果の出力"
   ]
  },
  {
   "cell_type": "code",
   "execution_count": null,
   "metadata": {},
   "outputs": [],
   "source": [
    "# 1データだけ取得\n",
    "image, label = iter(test_loader).next()\n",
    "\n",
    "# 評価モードに設定（dropoutなどの挙動が評価用になる）\n",
    "model.eval()\n",
    "\n",
    "running_loss = 0    # 検証中の損失を格納する変数\n",
    "correct = 0         # 検証の正解数を格納する変数\n",
    "total = 0           # 1ミニバッチ数を格納する変数\n",
    "\n",
    "with torch.no_grad():                # 勾配は計算しないモードに設定\n",
    "    # 1ミニバッチ分の「検証」を実行\n",
    "    # デバイス情報をデータに送る\n",
    "    image = image.to(device)\n",
    "    label = label.to(device)\n",
    "    # フォワードプロパゲーションで出力結果を取得\n",
    "    outputs = model(image)\n",
    "\n",
    "    loss = criterion(outputs, label)    # 誤差（出力結果と正解ラベルの差）から損失を取得\n",
    "    running_loss += loss.item()          # 損失をpythonの値で追加\n",
    "    _, predict = torch.max(outputs, 1)   # 予測した確率の最大値を予測結果として出力\n",
    "    # numpy化して予測結果を表示\n",
    "    print(predict.numpy())\n",
    "    \n",
    "    correct += (predict == label).sum().item()  # 正解数を取得\n",
    "    total += label.size(0)              # 1ミニバッチ数の取得\n",
    "\n",
    "val_loss = running_loss / len(label)\n",
    "val_acc = float(correct) / total\n",
    "\n",
    "# 損失や正解率などの情報を表示\n",
    "print(f' val_loss: {val_loss:.5f}, val_acc: {val_acc:.5f}')"
   ]
  },
  {
   "cell_type": "markdown",
   "metadata": {},
   "source": [
    "## modelを保存する"
   ]
  },
  {
   "cell_type": "code",
   "execution_count": null,
   "metadata": {},
   "outputs": [],
   "source": [
    "torch.save(model.state_dict(), 'DOGCAT_CNN_torch.pth')    # state_dictはモデルの構造だけ保存"
   ]
  },
  {
   "cell_type": "markdown",
   "metadata": {},
   "source": [
    "## modelを読み込み再度予測を行う"
   ]
  },
  {
   "cell_type": "code",
   "execution_count": null,
   "metadata": {},
   "outputs": [],
   "source": [
    "# モデルのパラメータのロード\n",
    "param = torch.load('DOGCAT_CNN_torch.pth')"
   ]
  },
  {
   "cell_type": "markdown",
   "metadata": {},
   "source": [
    "事前にモデルのインスタンス化が必要です。<br>（インスタンス化したモデルにロードしたパラメータを設定します）"
   ]
  },
  {
   "cell_type": "code",
   "execution_count": null,
   "metadata": {},
   "outputs": [],
   "source": [
    "import torch.nn as nn\n",
    "\n",
    "# 定数\n",
    "INPUT_SIZE = X_train.shape[1]    # 入力層のニューロン数\n",
    "CONV2_CHANNELS = 16   # 出力チャネル数 16個のカーネルを作成（conv2の入力チャネルの数を一致させる必要があります[conv1の出力→活性化関数→プーリングを経てconv2の入力チャネルとして渡されます]）\n",
    "INPUT_KERNELSIZE = 5  # 入力層のフィルター(カーネル) サイズ 5×5のサイズのカーネルを作成\n",
    "PADDING_SIZE = 2      # パディングサイズ\n",
    "OUTPUT_CHANNELS = 32  # 畳み込み層2の出力チャネル数\n",
    "# 2×2のサイズでプーリングを行います(サイズ/2)\n",
    "INPUT_POOLSIZE = (2, 2)    # プーリング層\n",
    "\n",
    "FC_NEURONS = 7 * 7 * 32    # 隠れ層のニューロン数\n",
    "OUTPUT_RESULTS = 2        # 出力層のニューロン数\n",
    "\n",
    "\n",
    "# モデルの定義\n",
    "class pre_ConvolutionalNeuralNetwork(nn.Module):\n",
    "    def __init__(self):\n",
    "        # 継承したnn.Module親クラスを初期化\n",
    "        super(ConvolutionalNeuralNetwork, self).__init__()\n",
    "        \n",
    "        # 層の定義\n",
    "        self.layer1 = nn.Sequential(\n",
    "            # 畳み込み層\n",
    "            nn.Conv2d(\n",
    "                INPUT_SIZE,           # 入力チャネル数\n",
    "                CONV2_CHANNELS,       # 出力チャネル数\n",
    "                kernel_size=INPUT_KERNELSIZE,      # 入力層のフィルター(カーネル) サイズ\n",
    "                padding=PADDING_SIZE  # パディングサイズ\n",
    "            ),\n",
    "            nn.BatchNorm2d(CONV2_CHANNELS),  # 正則化\n",
    "            nn.ReLU(),                       # 損失関数\n",
    "            nn.MaxPool2d(INPUT_POOLSIZE),    # プーリング層（MaxPooling）\n",
    "        )\n",
    "        self.layer2 = nn.Sequential(\n",
    "            # 畳み込み層\n",
    "            nn.Conv2d(\n",
    "                CONV2_CHANNELS,       # 入力チャネル数\n",
    "                OUTPUT_CHANNELS,      # 出力チャネル数\n",
    "                kernel_size=INPUT_KERNELSIZE,      # 入力層のフィルター(カーネル) サイズ\n",
    "                padding=PADDING_SIZE  # パディングサイズ\n",
    "            ),\n",
    "            nn.BatchNorm2d(OUTPUT_CHANNELS), # 正則化\n",
    "            nn.ReLU(),                       # 損失関数\n",
    "            nn.MaxPool2d(INPUT_POOLSIZE),    # プーリング層（MaxPooling）\n",
    "        )\n",
    "        # 全結合層\n",
    "        self.fc = nn.Linear(\n",
    "            FC_NEURONS,       # 入力ユニット数\n",
    "            OUTPUT_RESULTS    # 出力結果への出力ユニット数\n",
    "        )\n",
    "    def forward(self, x):\n",
    "        # print('Input_size : ', x.size())    # 出力サイズの確認  debag\n",
    "        x = self.layer1(x)\n",
    "        # print('layer1_output_size : ', x.size())    # 出力サイズの確認  debag\n",
    "        x = self.layer2(x)\n",
    "        # print('layer2_output_size : ', x.size())    # 出力サイズの確認  debag\n",
    "        x = x.view(x.size(0), -1)     # 畳み込み層の出力サイズを全結合層の入力ニューロン数に変換\n",
    "        # print('fc_activation_output_size : ', x.size())    # 出力サイズの確認  debag\n",
    "        x = self.fc(x)\n",
    "        # print('Output_size : ', x.size())    # 出力サイズの確認  debag\n",
    "        return x"
   ]
  },
  {
   "cell_type": "code",
   "execution_count": null,
   "metadata": {},
   "outputs": [],
   "source": [
    "# モデルのインスタンス化\n",
    "model = pre_ConvolutionalNeuralNetwork().to(device) #読み込む前にクラス宣言が必要\n",
    "model.load_state_dict(param)"
   ]
  },
  {
   "cell_type": "markdown",
   "metadata": {},
   "source": [
    "テストデータのDataLoaderを作成して最初の128枚の画像をロードする。"
   ]
  },
  {
   "cell_type": "code",
   "execution_count": null,
   "metadata": {},
   "outputs": [],
   "source": [
    "test_loader = DataLoader(\n",
    "    df_test,\n",
    "    batch_size=128, \n",
    "    shuffle=False\n",
    ")"
   ]
  },
  {
   "cell_type": "code",
   "execution_count": null,
   "metadata": {},
   "outputs": [],
   "source": [
    "# 1データだけ取得\n",
    "image, label = iter(test_loader).next()\n",
    "\n",
    "# 評価モードに設定（dropoutなどの挙動が評価用になる）\n",
    "model.eval()\n",
    "\n",
    "running_loss = 0    # 検証中の損失を格納する変数\n",
    "correct = 0         # 検証の正解数を格納する変数\n",
    "total = 0           # 1ミニバッチ数を格納する変数\n",
    "\n",
    "with torch.no_grad():                # 勾配は計算しないモードに設定\n",
    "    # 1ミニバッチ分の「検証」を実行\n",
    "    # デバイス情報をデータに送る\n",
    "    image = image.to(device)\n",
    "    label = label.to(device)\n",
    "    # フォワードプロパゲーションで出力結果を取得\n",
    "    outputs = model(image)\n",
    "\n",
    "    loss = criterion(outputs, label)    # 誤差（出力結果と正解ラベルの差）から損失を取得\n",
    "    running_loss += loss.item()          # 損失をpythonの値で追加\n",
    "    _, predict = torch.max(outputs, 1)   # 予測した確率の最大値を予測結果として出力\n",
    "    # numpy化して予測結果を表示\n",
    "    print(predict.numpy())\n",
    "    \n",
    "    correct += (predict == label).sum().item()  # 正解数を取得\n",
    "    total += label.size(0)              # 1ミニバッチ数の取得\n",
    "\n",
    "val_loss = running_loss / len(label)\n",
    "val_acc = float(correct) / total\n",
    "\n",
    "# 損失や正解率などの情報を表示\n",
    "print(f' val_loss: {val_loss:.5f}, val_acc: {val_acc:.5f}')"
   ]
  },
  {
   "cell_type": "code",
   "execution_count": null,
   "metadata": {},
   "outputs": [],
   "source": [
    "from torch.autograd import Variable\n",
    "\n",
    "images, _ = iter(loader_test).next()\n",
    "images = Variable(images, volatile=True)\n",
    "print(images.size())"
   ]
  },
  {
   "cell_type": "code",
   "execution_count": null,
   "metadata": {},
   "outputs": [],
   "source": [
    "imshow(torchvision.utils.make_grid(images.data[:25], nrow=5))"
   ]
  },
  {
   "cell_type": "markdown",
   "metadata": {},
   "source": [
    "予測"
   ]
  },
  {
   "cell_type": "code",
   "execution_count": null,
   "metadata": {},
   "outputs": [],
   "source": [
    "outputs = model(images)\n",
    "_, predicted = outputs.data"
   ]
  },
  {
   "cell_type": "markdown",
   "metadata": {},
   "source": [
    "predicted には0（ネコ）、1（イヌ）の予測ラベルが入っている"
   ]
  },
  {
   "cell_type": "code",
   "execution_count": null,
   "metadata": {},
   "outputs": [],
   "source": []
  }
 ],
 "metadata": {
  "kernelspec": {
   "display_name": "Python 3",
   "language": "python",
   "name": "python3"
  },
  "language_info": {
   "codemirror_mode": {
    "name": "ipython",
    "version": 3
   },
   "file_extension": ".py",
   "mimetype": "text/x-python",
   "name": "python",
   "nbconvert_exporter": "python",
   "pygments_lexer": "ipython3",
   "version": "3.7.6"
  }
 },
 "nbformat": 4,
 "nbformat_minor": 4
}
